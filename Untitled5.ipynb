{
  "nbformat": 4,
  "nbformat_minor": 0,
  "metadata": {
    "colab": {
      "provenance": [],
      "gpuType": "T4",
      "mount_file_id": "1YxG93osBfM3RllUlnLRcemJPaIYgTze3",
      "authorship_tag": "ABX9TyNJoLnKqnA4cH6GE2HFQcEq",
      "include_colab_link": true
    },
    "kernelspec": {
      "name": "python3",
      "display_name": "Python 3"
    },
    "language_info": {
      "name": "python"
    },
    "accelerator": "GPU"
  },
  "cells": [
    {
      "cell_type": "markdown",
      "metadata": {
        "id": "view-in-github",
        "colab_type": "text"
      },
      "source": [
        "<a href=\"https://colab.research.google.com/github/seungsdew/-/blob/main/Untitled5.ipynb\" target=\"_parent\"><img src=\"https://colab.research.google.com/assets/colab-badge.svg\" alt=\"Open In Colab\"/></a>"
      ]
    },
    {
      "cell_type": "code",
      "execution_count": 1,
      "metadata": {
        "colab": {
          "base_uri": "https://localhost:8080/"
        },
        "id": "VhhiLT62UcYv",
        "outputId": "fea5a639-6e7e-4acf-d2f3-207bae4a149c"
      },
      "outputs": [
        {
          "output_type": "stream",
          "name": "stdout",
          "text": [
            "/content/week6\n"
          ]
        }
      ],
      "source": [
        "%cd /content/week6\n",
        "\n",
        "!unzip -qq \"/content/drive/MyDrive/vlsi23_w6-main.zip\""
      ]
    },
    {
      "cell_type": "code",
      "source": [
        "import os\n",
        "os.chdir('/content/week6/vlsi23_w6-main')"
      ],
      "metadata": {
        "id": "gwvccOKVVLk1"
      },
      "execution_count": 2,
      "outputs": []
    },
    {
      "cell_type": "code",
      "source": [
        "!python main.py"
      ],
      "metadata": {
        "colab": {
          "base_uri": "https://localhost:8080/"
        },
        "id": "LwVY8ib9VwbY",
        "outputId": "ee6650ff-0440-4a15-a134-1fb3c21f271d"
      },
      "execution_count": 3,
      "outputs": [
        {
          "output_type": "stream",
          "name": "stdout",
          "text": [
            "100% 1875/1875 [00:43<00:00, 43.55it/s]\n",
            "100% 313/313 [00:03<00:00, 88.91it/s]\n",
            "Epoch [1/100]\n",
            "  Train Loss: 0.3895, Train Accuracy: 91.80%\n",
            "  Val Loss: 0.1630, Val Accuracy: 97.06%\n",
            "100% 1875/1875 [00:31<00:00, 60.39it/s]\n",
            " 55% 171/313 [00:01<00:01, 95.94it/s] \n",
            "Traceback (most recent call last):\n",
            "  File \"/content/week6/vlsi23_w6-main/main.py\", line 100, in <module>\n",
            "    outputs = net(inputs)\n",
            "  File \"/usr/local/lib/python3.10/dist-packages/torch/nn/modules/module.py\", line 1501, in _call_impl\n",
            "    return forward_call(*args, **kwargs)\n",
            "  File \"/content/week6/vlsi23_w6-main/network.py\", line 63, in forward\n",
            "    x=self.block(x)\n",
            "  File \"/usr/local/lib/python3.10/dist-packages/torch/nn/modules/module.py\", line 1501, in _call_impl\n",
            "    return forward_call(*args, **kwargs)\n",
            "  File \"/usr/local/lib/python3.10/dist-packages/torch/nn/modules/container.py\", line 217, in forward\n",
            "    input = module(input)\n",
            "  File \"/usr/local/lib/python3.10/dist-packages/torch/nn/modules/module.py\", line 1501, in _call_impl\n",
            "    return forward_call(*args, **kwargs)\n",
            "  File \"/content/week6/vlsi23_w6-main/network.py\", line 15, in forward\n",
            "    x = self.body(x)\n",
            "  File \"/usr/local/lib/python3.10/dist-packages/torch/nn/modules/module.py\", line 1501, in _call_impl\n",
            "    return forward_call(*args, **kwargs)\n",
            "  File \"/usr/local/lib/python3.10/dist-packages/torch/nn/modules/container.py\", line 217, in forward\n",
            "    input = module(input)\n",
            "  File \"/usr/local/lib/python3.10/dist-packages/torch/nn/modules/module.py\", line 1501, in _call_impl\n",
            "    return forward_call(*args, **kwargs)\n",
            "  File \"/usr/local/lib/python3.10/dist-packages/torch/nn/modules/batchnorm.py\", line 171, in forward\n",
            "    return F.batch_norm(\n",
            "  File \"/usr/local/lib/python3.10/dist-packages/torch/nn/functional.py\", line 2450, in batch_norm\n",
            "    return torch.batch_norm(\n",
            "KeyboardInterrupt\n",
            "^C\n"
          ]
        }
      ]
    },
    {
      "cell_type": "code",
      "source": [
        "!pip3 install thop"
      ],
      "metadata": {
        "colab": {
          "base_uri": "https://localhost:8080/"
        },
        "id": "BYrFzj64ZKwS",
        "outputId": "7897821b-8d98-4ee1-e5d4-a7521e93a755"
      },
      "execution_count": 6,
      "outputs": [
        {
          "output_type": "stream",
          "name": "stdout",
          "text": [
            "Collecting thop\n",
            "  Downloading thop-0.1.1.post2209072238-py3-none-any.whl (15 kB)\n",
            "Requirement already satisfied: torch in /usr/local/lib/python3.10/dist-packages (from thop) (2.0.1+cu118)\n",
            "Requirement already satisfied: filelock in /usr/local/lib/python3.10/dist-packages (from torch->thop) (3.12.4)\n",
            "Requirement already satisfied: typing-extensions in /usr/local/lib/python3.10/dist-packages (from torch->thop) (4.5.0)\n",
            "Requirement already satisfied: sympy in /usr/local/lib/python3.10/dist-packages (from torch->thop) (1.12)\n",
            "Requirement already satisfied: networkx in /usr/local/lib/python3.10/dist-packages (from torch->thop) (3.1)\n",
            "Requirement already satisfied: jinja2 in /usr/local/lib/python3.10/dist-packages (from torch->thop) (3.1.2)\n",
            "Requirement already satisfied: triton==2.0.0 in /usr/local/lib/python3.10/dist-packages (from torch->thop) (2.0.0)\n",
            "Requirement already satisfied: cmake in /usr/local/lib/python3.10/dist-packages (from triton==2.0.0->torch->thop) (3.27.5)\n",
            "Requirement already satisfied: lit in /usr/local/lib/python3.10/dist-packages (from triton==2.0.0->torch->thop) (17.0.1)\n",
            "Requirement already satisfied: MarkupSafe>=2.0 in /usr/local/lib/python3.10/dist-packages (from jinja2->torch->thop) (2.1.3)\n",
            "Requirement already satisfied: mpmath>=0.19 in /usr/local/lib/python3.10/dist-packages (from sympy->torch->thop) (1.3.0)\n",
            "Installing collected packages: thop\n",
            "Successfully installed thop-0.1.1.post2209072238\n"
          ]
        }
      ]
    },
    {
      "cell_type": "code",
      "source": [
        "!python main.py"
      ],
      "metadata": {
        "colab": {
          "base_uri": "https://localhost:8080/"
        },
        "id": "A1Pvv9LZX-1J",
        "outputId": "d50bbbb2-e599-4dc0-b26d-01d6f516047c"
      },
      "execution_count": 8,
      "outputs": [
        {
          "output_type": "stream",
          "name": "stdout",
          "text": [
            "100% 1875/1875 [23:57<00:00,  1.30it/s]\n",
            "100% 313/313 [00:55<00:00,  5.63it/s]\n",
            "Epoch [1/100]\n",
            "  Train Loss: 0.2108, Train Accuracy: 94.77%\n",
            "  Val Loss: 0.1517, Val Accuracy: 95.75%\n",
            "100% 1875/1875 [23:55<00:00,  1.31it/s]\n",
            "100% 313/313 [00:55<00:00,  5.61it/s]\n",
            "Epoch [2/100]\n",
            "  Train Loss: 0.1568, Train Accuracy: 96.03%\n",
            "  Val Loss: 0.1075, Val Accuracy: 97.08%\n",
            "  0% 6/1875 [00:05<28:35,  1.09it/s]\n",
            "Traceback (most recent call last):\n",
            "  File \"/content/week6/vlsi23_w6-main/main.py\", line 81, in <module>\n",
            "    train_correct += (predicted == labels).sum().item()\n",
            "KeyboardInterrupt\n",
            "^C\n"
          ]
        }
      ]
    },
    {
      "cell_type": "code",
      "source": [
        "!python test.py"
      ],
      "metadata": {
        "colab": {
          "base_uri": "https://localhost:8080/"
        },
        "id": "MhDCr4uZZ1GR",
        "outputId": "2d474b80-af05-4c31-ab58-1eed85bee277"
      },
      "execution_count": 9,
      "outputs": [
        {
          "output_type": "stream",
          "name": "stdout",
          "text": [
            "[INFO] Register count_convNd() for <class 'torch.nn.modules.conv.Conv2d'>.\n",
            "[INFO] Register count_normalization() for <class 'torch.nn.modules.batchnorm.BatchNorm2d'>.\n",
            "[INFO] Register zero_ops() for <class 'torch.nn.modules.activation.ReLU'>.\n",
            "[INFO] Register zero_ops() for <class 'torch.nn.modules.container.Sequential'>.\n",
            "[INFO] Register count_convNd() for <class 'torch.nn.modules.conv.Conv2d'>.\n",
            "[INFO] Register count_normalization() for <class 'torch.nn.modules.batchnorm.BatchNorm2d'>.\n",
            "[INFO] Register zero_ops() for <class 'torch.nn.modules.activation.ReLU'>.\n",
            "[INFO] Register count_convNd() for <class 'torch.nn.modules.conv.Conv2d'>.\n",
            "[INFO] Register count_normalization() for <class 'torch.nn.modules.batchnorm.BatchNorm2d'>.\n",
            "[INFO] Register zero_ops() for <class 'torch.nn.modules.activation.ReLU'>.\n",
            "[INFO] Register count_convNd() for <class 'torch.nn.modules.conv.Conv2d'>.\n",
            "[INFO] Register count_normalization() for <class 'torch.nn.modules.batchnorm.BatchNorm2d'>.\n",
            "[INFO] Register zero_ops() for <class 'torch.nn.modules.activation.ReLU'>.\n",
            "[INFO] Register zero_ops() for <class 'torch.nn.modules.container.Sequential'>.\n",
            "[INFO] Register count_adap_avgpool() for <class 'torch.nn.modules.pooling.AdaptiveAvgPool2d'>.\n",
            "[INFO] Register count_linear() for <class 'torch.nn.modules.linear.Linear'>.\n",
            "[INFO] Register count_convNd() for <class 'torch.nn.modules.conv.Conv2d'>.\n",
            "[INFO] Register count_normalization() for <class 'torch.nn.modules.batchnorm.BatchNorm2d'>.\n",
            "[INFO] Register zero_ops() for <class 'torch.nn.modules.activation.ReLU'>.\n",
            "[INFO] Register zero_ops() for <class 'torch.nn.modules.container.Sequential'>.\n",
            "[INFO] Register count_adap_avgpool() for <class 'torch.nn.modules.pooling.AdaptiveAvgPool2d'>.\n",
            "[INFO] Register count_linear() for <class 'torch.nn.modules.linear.Linear'>.\n",
            "model B 연산량 (GFLOPs): 120895901312.0\n",
            "model B 파라미터 수 (Millions): 2370158.0\n",
            "model A 연산량 (GFLOPs): 8640711424.0\n",
            "model A 파라미터 수 (Millions): 395674.0\n"
          ]
        }
      ]
    },
    {
      "cell_type": "code",
      "source": [
        "!python main.py"
      ],
      "metadata": {
        "colab": {
          "base_uri": "https://localhost:8080/"
        },
        "id": "CdEN26Xbr4lg",
        "outputId": "657b8fa5-dc95-43f7-cc87-d0e80282a8b9"
      },
      "execution_count": 38,
      "outputs": [
        {
          "output_type": "stream",
          "name": "stdout",
          "text": [
            "100% 1875/1875 [23:54<00:00,  1.31it/s]\n",
            "100% 313/313 [00:55<00:00,  5.61it/s]\n",
            "Epoch [1/100]\n",
            "  Train Loss: 0.2225, Train Accuracy: 94.47%\n",
            "  Val Loss: 0.0850, Val Accuracy: 97.99%\n",
            "100% 1875/1875 [23:56<00:00,  1.30it/s]\n",
            "100% 313/313 [00:55<00:00,  5.60it/s]\n",
            "Epoch [2/100]\n",
            "  Train Loss: 0.1538, Train Accuracy: 96.24%\n",
            "  Val Loss: 0.0983, Val Accuracy: 97.50%\n",
            "  4% 71/1875 [00:55<23:26,  1.28it/s]\n",
            "Traceback (most recent call last):\n",
            "  File \"/content/week6/vlsi23_w6-main/main.py\", line 81, in <module>\n",
            "    train_correct += (predicted == labels).sum().item()\n",
            "KeyboardInterrupt\n",
            "^C\n"
          ]
        }
      ]
    }
  ]
}